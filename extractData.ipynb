{
 "cells": [
  {
   "cell_type": "code",
   "execution_count": 1,
   "metadata": {},
   "outputs": [
    {
     "name": "stdout",
     "output_type": "stream",
     "text": [
      "    1         google.com\n",
      "0   2       facebook.com\n",
      "1   3        youtube.com\n",
      "2   4      microsoft.com\n",
      "3   5        twitter.com\n",
      "4   6          tmall.com\n",
      "5   7      instagram.com\n",
      "6   8             qq.com\n",
      "7   9  windowsupdate.com\n",
      "8  10       linkedin.com\n",
      "9  11          baidu.com\n",
      "100000\n"
     ]
    }
   ],
   "source": [
    "import pandas as pd\n",
    "bigData = pd.read_csv('top-1m.csv')\n",
    "ourData = bigData.head(100000)\n",
    "ourData = ourData.Dataframe.to_csv('')\n",
    "print(ourData.head(10))\n",
    "print(len(ourData))"
   ]
  }
 ],
 "metadata": {
  "kernelspec": {
   "display_name": "Python 3",
   "language": "python",
   "name": "python3"
  },
  "language_info": {
   "codemirror_mode": {
    "name": "ipython",
    "version": 3
   },
   "file_extension": ".py",
   "mimetype": "text/x-python",
   "name": "python",
   "nbconvert_exporter": "python",
   "pygments_lexer": "ipython3",
   "version": "3.7.1"
  }
 },
 "nbformat": 4,
 "nbformat_minor": 2
}
